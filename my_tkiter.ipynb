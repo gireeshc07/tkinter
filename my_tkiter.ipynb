{
 "cells": [
  {
   "cell_type": "markdown",
   "id": "6a8f539e-4e8c-40bc-9ddf-4f2e29e9a07a",
   "metadata": {},
   "source": [
    "<img src = \"xtkinter-logo.png\">\n",
    "<h1>Python Tkinter</h1>\n",
    "<ul>\n",
    "    <li>tkinter is the standard GUI (Graphical User Interface) library for Python.</li>\n",
    "    <li>It provides a fast and easy way to create desktop applications with a variety of widgets, such as buttons, labels, text boxes, and more.</li>\n",
    "</ul>"
   ]
  },
  {
   "cell_type": "markdown",
   "id": "f8613ba5-2a29-4442-9a99-d5ab02111d38",
   "metadata": {},
   "source": [
    "<h3 style=\"color:lightgray;\">Create a Label Widget:</h3>"
   ]
  },
  {
   "cell_type": "code",
   "execution_count": 4,
   "id": "3f7dea1d-0438-4472-b986-522d78b2e3a0",
   "metadata": {},
   "outputs": [],
   "source": [
    "from tkinter import *\n",
    "\n",
    "root = Tk()\n",
    "\n",
    "\n",
    "my_label = Label(root, text='Hello World', font=('Arial', 40), fg='red', bg='yellow', width = \"200\", height=\"200\")\n",
    "my_label.pack()\n",
    "\n",
    "root.geometry('1000x400')\n",
    "root.mainloop()"
   ]
  },
  {
   "cell_type": "markdown",
   "id": "d96547a2-943f-46ba-985e-51c411b468e2",
   "metadata": {},
   "source": [
    "<h3 style=\"color:lightgray;\">Create a Button Widget:</h3>"
   ]
  },
  {
   "cell_type": "code",
   "execution_count": 55,
   "id": "9e0bd51d-150a-4412-a4df-2141a5cd76a3",
   "metadata": {},
   "outputs": [],
   "source": [
    "from tkinter import *\n",
    "\n",
    "def click_me():\n",
    "    l = Label(root, text='Welcome to Python', font=('Arial', 20), fg='blue', bg='mediumseagreen', width = 40, height = 5)\n",
    "    l.pack()\n",
    "\n",
    "root = Tk()\n",
    "\n",
    "root.geometry('1000x400')\n",
    "b = Button(root, text='Click Me!', font=('Arial', 40), fg='red', bg='yellow', activebackground='blue', activeforeground='white', command=click_me)\n",
    "\n",
    "b.pack()\n",
    "root.mainloop()"
   ]
  },
  {
   "cell_type": "markdown",
   "id": "6f7fef9a-3fd0-46c3-831a-ea40102b7719",
   "metadata": {},
   "source": [
    "<h3 style=\"color:lightgray;\">Drawing Lines and Rectangle using Canvas Widget:</h3>"
   ]
  },
  {
   "cell_type": "code",
   "execution_count": 93,
   "id": "e97c2d40-49d5-42ab-b940-8761bb39df74",
   "metadata": {},
   "outputs": [],
   "source": [
    "from tkinter import *\n",
    "\n",
    "root = Tk()\n",
    "\n",
    "my_canva = Canvas(root, width = 600, height = 500)\n",
    "my_canva.pack()\n",
    "\n",
    "my_canva.create_line(0, 0, 600, 500, width = 5, fill = \"blue\", dash = (3, 3))\n",
    "my_canva.create_line(0, 500, 600, 0, width = 5, fill = \"blue\", dash = (3, 3))\n",
    "my_canva.create_rectangle(150, 125, 450, 375, fill = \"mediumseagreen\", outline = \"red\", width = 5)\n",
    "\n",
    "root.mainloop()"
   ]
  },
  {
   "cell_type": "markdown",
   "id": "fea4d382-f034-4847-b727-b8879a11e44b",
   "metadata": {},
   "source": [
    "<h3 style=\"color:lightgray;\">Create a Circle and Arc:</h3>"
   ]
  },
  {
   "cell_type": "code",
   "execution_count": 108,
   "id": "5dfd41ae-8742-4773-a9f4-e86daa9513ad",
   "metadata": {},
   "outputs": [],
   "source": [
    "from tkinter import *\n",
    "\n",
    "root = Tk()\n",
    "\n",
    "my_canva = Canvas(root, width = 400, height = 300)\n",
    "my_canva.pack()\n",
    "\n",
    "my_canva.create_oval(100, 100, 300, 300, width = 5, fill = \"mediumseagreen\")\n",
    "\n",
    "my_canva.create_arc(100, 100, 300, 300, start = 90, extent = 120, fill = \"blue\")\n",
    "\n",
    "root.mainloop()"
   ]
  },
  {
   "cell_type": "markdown",
   "id": "7307ec8f-6cba-4ea8-ac05-4313aff0905c",
   "metadata": {},
   "source": [
    "<h3 style=\"color:lightgray;\">Creating Check Box:</h3>"
   ]
  },
  {
   "cell_type": "code",
   "execution_count": 147,
   "id": "986ed0ec-eccb-4ae0-ae56-7754492e927c",
   "metadata": {},
   "outputs": [],
   "source": [
    "from tkinter import *\n",
    "import tkinter.messagebox\n",
    "\n",
    "root = Tk()\n",
    "\n",
    "root.geometry(\"400x400\")\n",
    "\n",
    "my_checkbox1 = IntVar()\n",
    "my_checkbox2 = IntVar()\n",
    "my_checkbox3 = IntVar()\n",
    "\n",
    "def my_check():\n",
    "    if my_checkbox1.get() == 1:\n",
    "        tkinter.messagebox.showinfo(\"Welcome to C-Programming Language\")\n",
    "    if my_checkbox2.get() == 1:\n",
    "        tkinter.messagebox.showinfo(\"Welcome to Java Programming Language\")\n",
    "    if my_checkbox3.get() == 1:\n",
    "        tkinter.messagebox.showinfo(\"Welcome to Python Programming Language\")\n",
    "    else:\n",
    "        pass\n",
    "        \n",
    "my_checkbutton1 = Checkbutton(root, text = \"C-language\", fg =\"blue\", variable = my_checkbox1, onvalue = 1, offvalue = 0, height = 2, width = 10)\n",
    "my_checkbutton2 = Checkbutton(root, text = \"Java\", fg =\"blue\", variable = my_checkbox2, onvalue = 1, offvalue = 0, height = 2, width = 10)\n",
    "my_checkbutton3 = Checkbutton(root, text = \"Python\", fg =\"blue\", variable = my_checkbox3, onvalue = 1, offvalue = 0, height = 2, width = 10)\n",
    "\n",
    "my_button = Button(root, text = \"Click\", command = my_check, width = 10)\n",
    "\n",
    "my_checkbutton1.pack()\n",
    "my_checkbutton2.pack()\n",
    "my_checkbutton3.pack()\n",
    "\n",
    "my_button.pack()\n",
    "root.mainloop()"
   ]
  },
  {
   "cell_type": "markdown",
   "id": "2440d068-8005-4e9b-8035-f6984c11e144",
   "metadata": {},
   "source": [
    "<h3 style=\"color:lightgray;\">Create an Entry Widget:</h3>"
   ]
  },
  {
   "cell_type": "code",
   "execution_count": 3,
   "id": "a0bc9bcb-a89d-4144-ad90-fd82f14bd6b1",
   "metadata": {},
   "outputs": [],
   "source": [
    "from tkinter import *\n",
    "import tkinter.messagebox as messagebox\n",
    "\n",
    "root = Tk()\n",
    "root.geometry(\"400x400\")\n",
    "\n",
    "def get_value():\n",
    "    ans = entry_box.get()\n",
    "    messagebox.showinfo(\"Hello\", ans)\n",
    "\n",
    "my_label = Label(root, text = \"Enter Your Name: \")\n",
    "entry_box = Entry(root)\n",
    "button = Button(root, text = \"Click Me\", command = get_value, width = 20, height = 2)\n",
    "\n",
    "my_label.pack(side = LEFT, padx = 10, pady =10)\n",
    "entry_box.pack(side = LEFT, padx = 10, pady =10)\n",
    "button.pack(side = BOTTOM, padx = 10, pady =10)\n",
    "\n",
    "root.mainloop()"
   ]
  },
  {
   "cell_type": "markdown",
   "id": "4bdc48a9-6ba9-47a7-85ab-fdb4c8d58c71",
   "metadata": {},
   "source": [
    "<h3 style=\"color:lightgray;\">Create Radio Buttons:</h3>"
   ]
  },
  {
   "cell_type": "code",
   "execution_count": 6,
   "id": "83cf0ac5-ee65-4dbb-9afd-01acb0005347",
   "metadata": {},
   "outputs": [],
   "source": [
    "from tkinter import *\n",
    "import tkinter.messagebox as messagebox\n",
    "\n",
    "root = Tk()\n",
    "root.geometry(\"400x400\")\n",
    "\n",
    "values = [(1, \"C-Programming\"), (2, \"Java Programming\"), (3, \"Python Programming\"), (4, \"PHP\"), (5, \"R-Programming\")]\n",
    "\n",
    "v = IntVar()\n",
    "v.set(1)\n",
    "\n",
    "def get_value():\n",
    "    ans = v.get()\n",
    "\n",
    "    if ans == 1:\n",
    "        messagebox.showinfo(\"Hello Learner\", \"You Pressed 'C-Program'\")\n",
    "        \n",
    "    elif ans == 2:\n",
    "        messagebox.showinfo(\"Hello Learner\", \"You Pressed 'Java Program'\")\n",
    "\n",
    "    elif ans == 3:\n",
    "        messagebox.showinfo(\"Hello Learner\", \"You Pressed 'Python Program'\")\n",
    "\n",
    "    elif ans == 4:\n",
    "        messagebox.showinfo(\"Hello Learner\", \"You Pressed 'PHP'\")\n",
    "        \n",
    "    elif ans == 5:\n",
    "        messagebox.showinfo(\"Hello Learner\", \"You Pressed 'R-Program'\")\n",
    "\n",
    "    else:\n",
    "        pass\n",
    "\n",
    "my_label = Label(root, text = \"Choose Your Favorite Program\")\n",
    "my_label.pack()\n",
    "\n",
    "for val, program in values:\n",
    "    Radiobutton(root, text = program, value = val, variable = v, command = get_value).pack()\n",
    "\n",
    "root.mainloop()"
   ]
  },
  {
   "cell_type": "markdown",
   "id": "b547cd60-b7a3-41b0-a05b-846d1e68a395",
   "metadata": {},
   "source": [
    "<h3 style=\"color:lightgray;\">Creating Frames:</h3>"
   ]
  },
  {
   "cell_type": "code",
   "execution_count": 9,
   "id": "2f365b11-393a-4400-92a1-c78ffaef5dac",
   "metadata": {},
   "outputs": [],
   "source": [
    "from tkinter import *\n",
    "\n",
    "root = Tk()\n",
    "root.geometry(\"400x400\")\n",
    "\n",
    "frame1 = Frame(root, width = 300, height = 200, cursor = \"dot\")\n",
    "frame2 = Frame(root, width = 300, height = 200, cursor = \"dot\")\n",
    "\n",
    "button1 = Button(frame1, text = \"Click\")\n",
    "button2 = Button(frame2, text = \"Click\")\n",
    "button3 = Button(frame1, text = \"Save\")\n",
    "\n",
    "frame1.pack(side = TOP)\n",
    "frame2.pack(side = BOTTOM)\n",
    "\n",
    "button1.pack()\n",
    "button2.pack()\n",
    "button3.pack()\n",
    "\n",
    "root.mainloop()"
   ]
  },
  {
   "cell_type": "markdown",
   "id": "5d2437d6-2b4a-4628-a207-c552bcb48d02",
   "metadata": {},
   "source": [
    "<h3 style=\"color:lightgray;\">Creating List Box:</h3>"
   ]
  },
  {
   "cell_type": "code",
   "execution_count": 12,
   "id": "015eb9d0-4417-48d7-81be-26bb2d69c7d9",
   "metadata": {},
   "outputs": [],
   "source": [
    "from tkinter import *\n",
    "\n",
    "root = Tk()\n",
    "root.geometry(\"300x300\")\n",
    "input_var = StringVar()\n",
    "\n",
    "def delete():\n",
    "    list_box.delete(ANCHOR)\n",
    "\n",
    "def insert():\n",
    "    Entry(root, textvariable = input_var).pack()\n",
    "    list_box.insert(3, input_var.get())\n",
    "\n",
    "my_label = Label(root, text = \"My Favorite Programming Language\")\n",
    "\n",
    "list_box = Listbox(root, width = 50, height = 10)\n",
    "list_box.insert(1, \"C-Programming\")\n",
    "list_box.insert(2, \"C++ Programming\")\n",
    "\n",
    "delete_button = Button(root, text = \"Delete\", command = delete)\n",
    "insert_button = Button(root, text = \"Insert\", command = insert)\n",
    "\n",
    "my_label.pack()\n",
    "list_box.pack()\n",
    "delete_button.pack()\n",
    "insert_button.pack()\n",
    "\n",
    "root.mainloop()"
   ]
  },
  {
   "cell_type": "markdown",
   "id": "a074c5db-d578-44fa-bf68-545ebbef9a28",
   "metadata": {},
   "source": [
    "<h3 style=\"color:lightgray;\">Creating a Menu Bar:</h3>"
   ]
  },
  {
   "cell_type": "code",
   "execution_count": 15,
   "id": "d53b0d44-57ef-4cf7-af60-adf7d8bb1187",
   "metadata": {},
   "outputs": [],
   "source": [
    "from tkinter import *\n",
    "\n",
    "root = Tk()\n",
    "menu_bar = Menu(root)\n",
    "\n",
    "file = Menu(menu_bar, tearoff = 0)\n",
    "file.add_command(label = \"New\")\n",
    "file.add_command(label = \"Open\")\n",
    "file.add_command(label = \"Save\")\n",
    "file.add_command(label = \"Save As\")\n",
    "file.add_command(label = \"Close\")\n",
    "file.add_separator()\n",
    "file.add_command(label = \"Exit\", command = root.quit)\n",
    "\n",
    "menu_bar.add_cascade(label = \"File\", menu = file)\n",
    "\n",
    "edit = Menu(menu_bar, tearoff = 0)\n",
    "edit.add_command(label = \"Copy\")\n",
    "edit.add_command(label = \"Cut\")\n",
    "edit.add_command(label = \"Paste\")\n",
    "edit.add_separator()\n",
    "edit.add_command(label = \"Undo\")\n",
    "edit.add_command(label = \"Redo\")\n",
    "\n",
    "menu_bar.add_cascade(label = \"Edit\", menu = edit)\n",
    "\n",
    "root.config(menu = menu_bar)\n",
    "root.mainloop()"
   ]
  },
  {
   "cell_type": "markdown",
   "id": "1d5666ea-d44a-4447-97e3-952aad826585",
   "metadata": {},
   "source": [
    "<h3 style=\"color:lightgray;\">Creating Message Widget:</h3>"
   ]
  },
  {
   "cell_type": "code",
   "execution_count": 20,
   "id": "01e3963f-1ec0-406f-a056-1586f3f4c706",
   "metadata": {},
   "outputs": [],
   "source": [
    "from tkinter import *\n",
    "\n",
    "root = Tk()\n",
    "root.geometry(\"200x200\")\n",
    "\n",
    "var = StringVar()\n",
    "evar = StringVar()\n",
    "\n",
    "def insert():\n",
    "    ans = evar.get()\n",
    "    var.set(ans)\n",
    "\n",
    "msg = Message(root, textvariable = var, relief = RAISED, padx = 10, pady = 10)\n",
    "\n",
    "entr_bx = Entry(root, textvariable = evar)\n",
    "\n",
    "bttn = Button(root, text = \"Click Me\", command = insert)\n",
    "\n",
    "msg.pack()\n",
    "entr_bx.pack()\n",
    "bttn.pack()\n",
    "\n",
    "root.mainloop()"
   ]
  },
  {
   "cell_type": "markdown",
   "id": "e58cf8e3-50a5-4a90-a0bc-e29e4a7d27e0",
   "metadata": {},
   "source": [
    "<h3 style=\"color:lightgray;\">Create Date Picker Widget:</h3>"
   ]
  },
  {
   "cell_type": "code",
   "execution_count": 26,
   "id": "7460ee7f-dd2f-4536-9060-9393661fe32d",
   "metadata": {},
   "outputs": [
    {
     "name": "stdout",
     "output_type": "stream",
     "text": [
      "Requirement already satisfied: tkcalendar in c:\\users\\chira\\anaconda3\\lib\\site-packages (1.6.1)\n",
      "Requirement already satisfied: babel in c:\\users\\chira\\anaconda3\\lib\\site-packages (from tkcalendar) (2.11.0)\n",
      "Requirement already satisfied: pytz>=2015.7 in c:\\users\\chira\\anaconda3\\lib\\site-packages (from babel->tkcalendar) (2024.1)\n"
     ]
    }
   ],
   "source": [
    "!pip install tkcalendar\n",
    "\n",
    "from tkinter import *\n",
    "from tkinter import messagebox\n",
    "from tkcalendar import *\n",
    "\n",
    "root = Tk()\n",
    "\n",
    "def cal_funct():\n",
    "    def CalVal():\n",
    "        messagebox.showinfo(\"Your date is: \", cal.get_date())\n",
    "\n",
    "    top = Toplevel(root)\n",
    "    cal = Calendar(top, font=\"Arial 14\", selectmode=\"day\", year=2025, month=1, day=29)\n",
    "    cal.pack(fill=\"both\", expand=True)\n",
    "    btn3 = Button(top, text=\"Click Me\", command=CalVal)\n",
    "    btn3.pack()\n",
    "\n",
    "def date_funct():\n",
    "    def dateval():\n",
    "        messagebox.showinfo(\"Your date is: \", ent.get_date())\n",
    "    \n",
    "    top = Toplevel(root)\n",
    "    Label(top, text=\"Select date\").pack(padx=10, pady=10)\n",
    "    ent = DateEntry(top, width=15, background=\"blue\", foreground=\"red\", borderwidth=3)\n",
    "    ent.pack(padx=10, pady=10)\n",
    "    btn4 = Button(top, text=\"Click Me\", command=dateval)\n",
    "    btn4.pack()\n",
    "\n",
    "button1 = Button(root, text=\"Calendar\", command=cal_funct)\n",
    "button2 = Button(root, text=\"DateEntry\", command=date_funct)\n",
    "\n",
    "button1.pack()\n",
    "button2.pack()\n",
    "\n",
    "root.mainloop()"
   ]
  },
  {
   "cell_type": "markdown",
   "id": "2f6811a6-de9c-43d2-85b2-db65a94776b0",
   "metadata": {},
   "source": [
    "<h3 style=\"color:lightgray;\">Create a Scale Widget:</h3>"
   ]
  },
  {
   "cell_type": "code",
   "execution_count": 29,
   "id": "1a3f53cb-55e8-4676-9aa2-584cde7af41b",
   "metadata": {},
   "outputs": [],
   "source": [
    "from tkinter import *\n",
    "\n",
    "Top = Tk()\n",
    "Top.geometry(\"200x100\")\n",
    "\n",
    "def select():\n",
    "    sel = \"Value = \" + str(v.get())\n",
    "    label.config(text = sel)\n",
    "\n",
    "v = DoubleVar()\n",
    "\n",
    "scale = Scale(Top, variable = v, from_ = 1, to = 100, orient = HORIZONTAL)\n",
    "scale.pack(anchor = CENTER)\n",
    "\n",
    "buttn = Button(Top, text = \"value\", command = select)\n",
    "buttn.pack()\n",
    "\n",
    "label = Label(Top)\n",
    "label.pack()\n",
    "\n",
    "root.mainloop()"
   ]
  },
  {
   "cell_type": "markdown",
   "id": "7ac3031a-c056-4be6-b82e-abd07acdd898",
   "metadata": {},
   "source": [
    "<h3 style=\"color:lightgray;\">Creating Digital Clock</h3>"
   ]
  },
  {
   "cell_type": "code",
   "execution_count": 32,
   "id": "a632f55d-3ddd-4542-82ff-019d2bc87a9f",
   "metadata": {},
   "outputs": [],
   "source": [
    "from tkinter import *\n",
    "import time\n",
    "\n",
    "root = Tk()\n",
    "\n",
    "def tick():\n",
    "    my_time = time.strftime(\"%H:%M:%S,%p\")\n",
    "    clock.config(text = my_time)\n",
    "    clock.after(200, tick)\n",
    "\n",
    "clock = Label(root, font = (\"Digital dream\", 100, \"bold\"), bg = \"red\")\n",
    "clock.pack(fill = BOTH, expand = 1)\n",
    "\n",
    "tick()\n",
    "root.mainloop()"
   ]
  },
  {
   "cell_type": "markdown",
   "id": "cbce90f1-176b-4286-af2d-4608b8412b53",
   "metadata": {},
   "source": [
    "<h3 style=\"color:lightgray;\">Create GUI based Login Form:</h3>"
   ]
  },
  {
   "cell_type": "code",
   "execution_count": 35,
   "id": "d202b36c-7ed4-4c9b-ad89-fbc9c2d6bb7c",
   "metadata": {},
   "outputs": [],
   "source": [
    "from tkinter import *\n",
    "from tkinter import messagebox\n",
    "# import MySQLdb as sql\n",
    "  \n",
    "root = Tk()\n",
    "root.geometry(\"300x250\")\n",
    "\n",
    "def check():\n",
    "    messagebox.showinfo(title = \"Hello, User\", message = \"Welcome to Tech Elephant. Your Login was Successful.\")\n",
    "\n",
    "un = StringVar()\n",
    "pw = StringVar()\n",
    "\n",
    "root.title(\"Tech Elephant\")\n",
    "\n",
    "t = Label(root, text = \"Login Form\", font = (\"Arial\", 14), bd = 15)\n",
    "t.pack()\n",
    "\n",
    "form = Frame(root)\n",
    "form.pack(side = TOP)\n",
    "\n",
    "nameL = Label(form, text = \"Username: \", font = (\"Arial\", 14), bd = 15)\n",
    "passL = Label(form, text = \"Password: \", font = (\"Arial\", 14), bd = 15)\n",
    "\n",
    "nameL.grid(row = 1)\n",
    "passL.grid(row = 2)\n",
    "\n",
    "nameE = Entry(form, textvariable = un)\n",
    "passE = Entry(form, textvariable = pw, show = \"*\")\n",
    "\n",
    "nameE.grid(row = 1, column = 2)\n",
    "passE.grid(row = 2, column = 2)\n",
    "\n",
    "login_btn = Button(root, text = \"Login\", command = check)\n",
    "login_btn.pack()\n",
    "\n",
    "root.mainloop()"
   ]
  },
  {
   "cell_type": "markdown",
   "id": "c4d6d61f-4bca-42a5-9b7c-a3820546c125",
   "metadata": {},
   "source": [
    "<h3 style=\"color:lightgray;\">Age Calculator Application:</h3>"
   ]
  },
  {
   "cell_type": "code",
   "execution_count": 38,
   "id": "f2e5a276-23ae-4a5a-99ac-8333f0e24c93",
   "metadata": {},
   "outputs": [],
   "source": [
    "from tkinter import *\n",
    "from datetime import date\n",
    "\n",
    "root = Tk()\n",
    "root.geometry(\"700x500\")\n",
    "\n",
    "def calculate_age():\n",
    "    today = date.today()\n",
    "    birthDate = date(int(yearEntry.get()),\n",
    "                     int(monthEntry.get()),\n",
    "                     int(dayEntry.get()))\n",
    "    age = today.year - birthDate.year - ((today.month, today.day) < (birthDate.month, birthDate.day))\n",
    "    Label(text = f\"{nameValue.get()} your age is {age}\").grid(row = 6, column = 1)\n",
    "\n",
    "root.title(\"Age Calculator App\")\n",
    "\n",
    "photo = PhotoImage(file = \"python-logo.png\")\n",
    "my_image = Label(image = photo)\n",
    "my_image.grid(row = 0, column = 1)\n",
    "\n",
    "Label(text = \"Name\").grid(row = 1, column = 0, padx = 90) \n",
    "Label(text = \"Year\").grid(row = 2, column = 0) \n",
    "Label(text = \"Month\").grid(row = 3, column = 0) \n",
    "Label(text = \"Day\").grid(row = 4, column = 0, padx = 90) \n",
    "\n",
    "nameValue = StringVar()\n",
    "yearValue = StringVar()\n",
    "monthValue = StringVar()\n",
    "dayValue = StringVar()\n",
    "\n",
    "nameEntry = Entry(root, textvariable = nameValue)\n",
    "yearEntry = Entry(root, textvariable = yearValue)\n",
    "monthEntry = Entry(root, textvariable = monthValue)\n",
    "dayEntry = Entry(root, textvariable = dayValue)\n",
    "\n",
    "nameEntry.grid(row = 1, column = 1, pady = 10)\n",
    "yearEntry.grid(row = 2, column = 1, pady = 10)\n",
    "monthEntry.grid(row = 3, column = 1, pady = 10)\n",
    "dayEntry.grid(row = 4, column = 1, pady = 10)\n",
    "\n",
    "Button(text = \"Calculate Age\", command = calculate_age).grid(row = 5, column = 1, pady = 10)\n",
    "\n",
    "root.mainloop()"
   ]
  },
  {
   "cell_type": "markdown",
   "id": "7a6bc69b-2d1c-44e5-ba2a-2e35444430be",
   "metadata": {},
   "source": [
    "<h3 style=\"color:lightgray;\">Text to Speech Converter:</h3>"
   ]
  },
  {
   "cell_type": "code",
   "execution_count": 42,
   "id": "ea7380b3-79b0-4d9e-bf1a-12689f84dbea",
   "metadata": {},
   "outputs": [
    {
     "name": "stdout",
     "output_type": "stream",
     "text": [
      "Requirement already satisfied: gtts in c:\\users\\chira\\anaconda3\\lib\\site-packages (2.5.4)\n",
      "Requirement already satisfied: requests<3,>=2.27 in c:\\users\\chira\\anaconda3\\lib\\site-packages (from gtts) (2.32.3)\n",
      "Requirement already satisfied: click<8.2,>=7.1 in c:\\users\\chira\\anaconda3\\lib\\site-packages (from gtts) (8.1.7)\n",
      "Requirement already satisfied: colorama in c:\\users\\chira\\anaconda3\\lib\\site-packages (from click<8.2,>=7.1->gtts) (0.4.6)\n",
      "Requirement already satisfied: charset-normalizer<4,>=2 in c:\\users\\chira\\anaconda3\\lib\\site-packages (from requests<3,>=2.27->gtts) (3.3.2)\n",
      "Requirement already satisfied: idna<4,>=2.5 in c:\\users\\chira\\anaconda3\\lib\\site-packages (from requests<3,>=2.27->gtts) (3.7)\n",
      "Requirement already satisfied: urllib3<3,>=1.21.1 in c:\\users\\chira\\anaconda3\\lib\\site-packages (from requests<3,>=2.27->gtts) (2.2.3)\n",
      "Requirement already satisfied: certifi>=2017.4.17 in c:\\users\\chira\\anaconda3\\lib\\site-packages (from requests<3,>=2.27->gtts) (2024.12.14)\n"
     ]
    }
   ],
   "source": [
    "!pip install gtts\n",
    "from tkinter import *\n",
    "from gtts import gTTS\n",
    "import os\n",
    "\n",
    "root = Tk()\n",
    "\n",
    "def play():\n",
    "    language = \"en\"\n",
    "    convert = gTTS(text = my_entrybox.get(),\n",
    "                   lang = language,\n",
    "                   slow = False)\n",
    "    convert.save(\"convert.wav\")\n",
    "    os.system(\"convert.wav\")\n",
    "\n",
    "my_label = Label(text = \"Text to Speech Converter\",\n",
    "                 font = \"bold, 30\",\n",
    "                 bg = \"lightpink\")\n",
    "my_label.grid(row = 1, column = 1)\n",
    "\n",
    "my_entrybox = Entry(width = 45, bd = 4, font = 14)\n",
    "my_entrybox.grid(row = 3, column = 1)\n",
    "\n",
    "my_button = Button(text = \"CONVERT\",\n",
    "                   width = \"15\",\n",
    "                   pady = 10,\n",
    "                   font = \"bold, 15\",\n",
    "                   command = play,\n",
    "                   bg = \"yellow\")\n",
    "my_button.grid(row = 4, column = 1)\n",
    "\n",
    "root.title(\"Text to Speech Converter\")\n",
    "root.geometry(\"500x200\")\n",
    "root.mainloop()"
   ]
  },
  {
   "cell_type": "markdown",
   "id": "6585ca08-652f-44f4-9a0c-b0d65ed84d99",
   "metadata": {},
   "source": [
    "<h3 style=\"color:lightgray;\">Creating a Search Bar:</h3>"
   ]
  },
  {
   "cell_type": "code",
   "execution_count": 46,
   "id": "c11115b1-5f8c-460a-8368-e62f2efca1a5",
   "metadata": {},
   "outputs": [],
   "source": [
    "from tkinter import *\n",
    "import webbrowser\n",
    "\n",
    "root = Tk()\n",
    "root.title(\"Search Bar\")\n",
    "\n",
    "def search():\n",
    "    url = entry_box.get()\n",
    "    webbrowser.open(url)\n",
    "\n",
    "my_label = Label(root, text = \"Enter URL here: \", font = (\"Arial\", 15, \"bold\"))\n",
    "\n",
    "my_label.grid(row = 0, column = 0)\n",
    "\n",
    "entry_box = Entry(root, width = 35)\n",
    "entry_box.grid(row = 0, column = 1)\n",
    "\n",
    "my_button = Button(root, text = \"Search\", command = search, bg = \"blue\", fg = \"white\", font = (\"Arial\", 14, \"bold\"))\n",
    "my_button.grid(row = 1, column = 0)\n",
    "\n",
    "root.mainloop()"
   ]
  },
  {
   "cell_type": "markdown",
   "id": "7d767548-8bd6-43f1-862e-293f2e110093",
   "metadata": {},
   "source": [
    "<h3 style=\"color:lightgray;\">Create a Table:</h3>"
   ]
  },
  {
   "cell_type": "code",
   "execution_count": 49,
   "id": "13801396-f1ec-4b78-91f7-75a4e0703e9a",
   "metadata": {},
   "outputs": [],
   "source": [
    "from tkinter import *\n",
    "root = Tk()\n",
    "my_list = [(\"S.No.\", \"Name\", \"Location\", \"Age\"),\n",
    "           (1, \"Raja\", \"Mumbai\", 19),\n",
    "           (2, \"Kumar\", \"Pune\", 18),\n",
    "           (3, \"Ajay\", \"Mumbai\", 20),\n",
    "           (4, \"Vijay\", \"Mumbai\", 21),\n",
    "           (5, \"Babu\", \"Delhi\", 21)]\n",
    "\n",
    "total_rows = len(my_list)\n",
    "total_columns = len(my_list[0])\n",
    "\n",
    "for i in range(total_rows):\n",
    "    for j in range(total_columns):\n",
    "        e = Entry(root, width = 20, fg = \"blue\", font = (\"Arial\", 16, \"bold\"))\n",
    "        e.grid(row = i, column = j)\n",
    "        e.insert(0, my_list[i][j])\n",
    "\n",
    "root.mainloop()"
   ]
  }
 ],
 "metadata": {
  "kernelspec": {
   "display_name": "Python [conda env:base] *",
   "language": "python",
   "name": "conda-base-py"
  },
  "language_info": {
   "codemirror_mode": {
    "name": "ipython",
    "version": 3
   },
   "file_extension": ".py",
   "mimetype": "text/x-python",
   "name": "python",
   "nbconvert_exporter": "python",
   "pygments_lexer": "ipython3",
   "version": "3.12.7"
  }
 },
 "nbformat": 4,
 "nbformat_minor": 5
}
